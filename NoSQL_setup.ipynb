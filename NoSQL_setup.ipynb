{
 "cells": [
  {
   "cell_type": "markdown",
   "id": "9a57c4c6",
   "metadata": {},
   "source": [
    "# Eat Safe, Love"
   ]
  },
  {
   "cell_type": "markdown",
   "id": "064ef857",
   "metadata": {},
   "source": [
    "## Part 1: Database and Jupyter Notebook Set Up"
   ]
  },
  {
   "cell_type": "markdown",
   "id": "664e3c1f",
   "metadata": {},
   "source": [
    "Import the data provided in the `establishments.json` file from your Terminal. Name the database `uk_food` and the collection `establishments`.\n",
    "\n",
    "Import the dataset with:\n",
    "\n",
    "   `mongoimport --type json -d uk_food -c establishments --drop --jsonArray establishments.json`"
   ]
  },
  {
   "cell_type": "code",
   "execution_count": 1,
   "id": "3ecdd008",
   "metadata": {},
   "outputs": [],
   "source": [
    "# Import dependencies\n",
    "from pymongo import MongoClient\n",
    "from pprint import pprint"
   ]
  },
  {
   "cell_type": "code",
   "execution_count": 2,
   "id": "59390c4a",
   "metadata": {},
   "outputs": [],
   "source": [
    "# Create an instance of MongoClient\n",
    "mongo = MongoClient(port=27017)"
   ]
  },
  {
   "cell_type": "code",
   "execution_count": 3,
   "id": "7f9ececa",
   "metadata": {},
   "outputs": [
    {
     "name": "stdout",
     "output_type": "stream",
     "text": [
      "['admin', 'config', 'uk_food']\n"
     ]
    }
   ],
   "source": [
    "# confirm that our new database was created\n",
    "print(mongo.list_database_names())"
   ]
  },
  {
   "cell_type": "code",
   "execution_count": 4,
   "id": "71e373c1",
   "metadata": {},
   "outputs": [],
   "source": [
    "# assign the uk_food database to a variable name\n",
    "db = mongo['uk_food']"
   ]
  },
  {
   "cell_type": "code",
   "execution_count": 5,
   "id": "ef1b89ed",
   "metadata": {},
   "outputs": [
    {
     "name": "stdout",
     "output_type": "stream",
     "text": [
      "['establishments']\n"
     ]
    }
   ],
   "source": [
    "# review the collections in our new database\n",
    "print(db.list_collection_names())"
   ]
  },
  {
   "cell_type": "code",
   "execution_count": 6,
   "id": "6a0d92df",
   "metadata": {},
   "outputs": [
    {
     "name": "stdout",
     "output_type": "stream",
     "text": [
      "{'AddressLine1': 'East Cliff Pavilion',\n",
      " 'AddressLine2': 'Wear Bay Road',\n",
      " 'AddressLine3': 'Folkestone',\n",
      " 'AddressLine4': 'Kent',\n",
      " 'BusinessName': 'The Pavilion',\n",
      " 'BusinessType': 'Restaurant/Cafe/Canteen',\n",
      " 'BusinessTypeID': 1,\n",
      " 'ChangesByServerID': 0,\n",
      " 'Distance': 4591.765489457773,\n",
      " 'FHRSID': 1043695,\n",
      " 'LocalAuthorityBusinessID': 'PI/000073616',\n",
      " 'LocalAuthorityCode': '188',\n",
      " 'LocalAuthorityEmailAddress': 'foodteam@folkestone-hythe.gov.uk',\n",
      " 'LocalAuthorityName': 'Folkestone and Hythe',\n",
      " 'LocalAuthorityWebSite': 'http://www.folkestone-hythe.gov.uk',\n",
      " 'NewRatingPending': False,\n",
      " 'Phone': '',\n",
      " 'PostCode': 'CT19 6BL',\n",
      " 'RatingDate': '2018-04-04T00:00:00',\n",
      " 'RatingKey': 'fhrs_5_en-gb',\n",
      " 'RatingValue': 5,\n",
      " 'RightToReply': '',\n",
      " 'SchemeType': 'FHRS',\n",
      " '_id': ObjectId('64fdb1f79c7570f9f85f2b79'),\n",
      " 'geocode': {'latitude': 51.083812, 'longitude': 1.195625},\n",
      " 'links': [{'href': 'https://api.ratings.food.gov.uk/establishments/1043695',\n",
      "            'rel': 'self'}],\n",
      " 'meta': {'dataSource': None,\n",
      "          'extractDate': '0001-01-01T00:00:00',\n",
      "          'itemCount': 0,\n",
      "          'pageNumber': 0,\n",
      "          'pageSize': 0,\n",
      "          'returncode': None,\n",
      "          'totalCount': 0,\n",
      "          'totalPages': 0},\n",
      " 'scores': {'ConfidenceInManagement': 5, 'Hygiene': 5, 'Structural': 5}}\n"
     ]
    }
   ],
   "source": [
    "# review a document in the establishments collection\n",
    "pprint(db.establishments.find_one())"
   ]
  },
  {
   "cell_type": "code",
   "execution_count": 7,
   "id": "11c9f11b",
   "metadata": {},
   "outputs": [],
   "source": [
    "# assign the collection to a variable\n",
    "establishments = db['establishments']"
   ]
  },
  {
   "cell_type": "markdown",
   "id": "d5671434",
   "metadata": {},
   "source": [
    "## Part 2: Update the Database"
   ]
  },
  {
   "cell_type": "markdown",
   "id": "314bd884",
   "metadata": {},
   "source": [
    "1. An exciting new halal restaurant just opened in Greenwich, but hasn't been rated yet. The magazine has asked you to include it in your analysis. Add the following restaurant \"Penang Flavours\" to the database."
   ]
  },
  {
   "cell_type": "code",
   "execution_count": 8,
   "id": "c2da7648",
   "metadata": {},
   "outputs": [],
   "source": [
    "# Create a dictionary for the new restaurant data\n",
    "new_restaurant = {\n",
    "    \"BusinessName\":\"Penang Flavours\",\n",
    "    \"BusinessType\":\"Restaurant/Cafe/Canteen\",\n",
    "    \"BusinessTypeID\":\"\",\n",
    "    \"AddressLine1\":\"Penang Flavours\",\n",
    "    \"AddressLine2\":\"146A Plumstead Rd\",\n",
    "    \"AddressLine3\":\"London\",\n",
    "    \"AddressLine4\":\"\",\n",
    "    \"PostCode\":\"SE18 7DY\",\n",
    "    \"Phone\":\"\",\n",
    "    \"LocalAuthorityCode\":\"511\",\n",
    "    \"LocalAuthorityName\":\"Greenwich\",\n",
    "    \"LocalAuthorityWebSite\":\"http://www.royalgreenwich.gov.uk\",\n",
    "    \"LocalAuthorityEmailAddress\":\"health@royalgreenwich.gov.uk\",\n",
    "    \"scores\":{\n",
    "        \"Hygiene\":\"\",\n",
    "        \"Structural\":\"\",\n",
    "        \"ConfidenceInManagement\":\"\"\n",
    "    },\n",
    "    \"SchemeType\":\"FHRS\",\n",
    "    \"geocode\":{\n",
    "        \"longitude\":\"0.08384000\",\n",
    "        \"latitude\":\"51.49014200\"\n",
    "    },\n",
    "    \"RightToReply\":\"\",\n",
    "    \"Distance\":4623.9723280747176,\n",
    "    \"NewRatingPending\":True\n",
    "}"
   ]
  },
  {
   "cell_type": "code",
   "execution_count": 9,
   "id": "a6e5cece",
   "metadata": {},
   "outputs": [
    {
     "data": {
      "text/plain": [
       "<pymongo.results.InsertOneResult at 0x250e3116f48>"
      ]
     },
     "execution_count": 9,
     "metadata": {},
     "output_type": "execute_result"
    }
   ],
   "source": [
    "# Insert the new restaurant into the collection\n",
    "establishments.insert_one(new_restaurant)"
   ]
  },
  {
   "cell_type": "code",
   "execution_count": 10,
   "id": "63bb10f9",
   "metadata": {},
   "outputs": [
    {
     "data": {
      "text/plain": [
       "{'_id': ObjectId('64fdb2637c7526e5e09681ee'),\n",
       " 'BusinessName': 'Penang Flavours',\n",
       " 'BusinessType': 'Restaurant/Cafe/Canteen',\n",
       " 'BusinessTypeID': 1,\n",
       " 'AddressLine1': 'Penang Flavours',\n",
       " 'AddressLine2': '146A Plumstead Rd',\n",
       " 'AddressLine3': 'London',\n",
       " 'AddressLine4': '',\n",
       " 'PostCode': 'SE18 7DY',\n",
       " 'Phone': '',\n",
       " 'LocalAuthorityCode': '511',\n",
       " 'LocalAuthorityName': 'Greenwich',\n",
       " 'LocalAuthorityWebSite': 'http://www.royalgreenwich.gov.uk',\n",
       " 'LocalAuthorityEmailAddress': 'health@royalgreenwich.gov.uk',\n",
       " 'scores': {'Hygiene': '', 'Structural': '', 'ConfidenceInManagement': ''},\n",
       " 'SchemeType': 'FHRS',\n",
       " 'geocode': {'longitude': 0.08384, 'latitude': 51.490142},\n",
       " 'RightToReply': '',\n",
       " 'Distance': 4623.972328074718,\n",
       " 'NewRatingPending': True}"
      ]
     },
     "execution_count": 10,
     "metadata": {},
     "output_type": "execute_result"
    }
   ],
   "source": [
    "# Check that the new restaurant was inserted\n",
    "establishments.find_one({'BusinessName': 'Penang Flavours'})"
   ]
  },
  {
   "cell_type": "markdown",
   "id": "0ef4395a",
   "metadata": {},
   "source": [
    "2. Find the BusinessTypeID for \"Restaurant/Cafe/Canteen\" and return only the `BusinessTypeID` and `BusinessType` fields."
   ]
  },
  {
   "cell_type": "code",
   "execution_count": 11,
   "id": "93c63829",
   "metadata": {},
   "outputs": [
    {
     "data": {
      "text/plain": [
       "{'_id': ObjectId('64fdb1f79c7570f9f85f2b79'),\n",
       " 'BusinessType': 'Restaurant/Cafe/Canteen',\n",
       " 'BusinessTypeID': 1}"
      ]
     },
     "execution_count": 11,
     "metadata": {},
     "output_type": "execute_result"
    }
   ],
   "source": [
    "# Find the BusinessTypeID for \"Restaurant/Cafe/Canteen\" and return only the BusinessTypeID and BusinessType fields\n",
    "query = {'BusinessType': 'Restaurant/Cafe/Canteen'}\n",
    "fields = ['BusinessTypeID', 'BusinessType']\n",
    "\n",
    "establishments.find_one(query, fields)"
   ]
  },
  {
   "cell_type": "markdown",
   "id": "4e570caf",
   "metadata": {},
   "source": [
    "3. Update the new restaurant with the `BusinessTypeID` you found."
   ]
  },
  {
   "cell_type": "code",
   "execution_count": 12,
   "id": "7f599f3d",
   "metadata": {},
   "outputs": [
    {
     "data": {
      "text/plain": [
       "<pymongo.results.UpdateResult at 0x250e3168708>"
      ]
     },
     "execution_count": 12,
     "metadata": {},
     "output_type": "execute_result"
    }
   ],
   "source": [
    "# Update the new restaurant with the correct BusinessTypeID\n",
    "establishments.update_one(new_restaurant, {'$set': {'BusinessTypeID': 1}})"
   ]
  },
  {
   "cell_type": "code",
   "execution_count": 13,
   "id": "a6ad16f7",
   "metadata": {},
   "outputs": [
    {
     "data": {
      "text/plain": [
       "{'_id': ObjectId('64fdb2637c7526e5e09681ee'),\n",
       " 'BusinessName': 'Penang Flavours',\n",
       " 'BusinessType': 'Restaurant/Cafe/Canteen',\n",
       " 'BusinessTypeID': 1,\n",
       " 'AddressLine1': 'Penang Flavours',\n",
       " 'AddressLine2': '146A Plumstead Rd',\n",
       " 'AddressLine3': 'London',\n",
       " 'AddressLine4': '',\n",
       " 'PostCode': 'SE18 7DY',\n",
       " 'Phone': '',\n",
       " 'LocalAuthorityCode': '511',\n",
       " 'LocalAuthorityName': 'Greenwich',\n",
       " 'LocalAuthorityWebSite': 'http://www.royalgreenwich.gov.uk',\n",
       " 'LocalAuthorityEmailAddress': 'health@royalgreenwich.gov.uk',\n",
       " 'scores': {'Hygiene': '', 'Structural': '', 'ConfidenceInManagement': ''},\n",
       " 'SchemeType': 'FHRS',\n",
       " 'geocode': {'longitude': 0.08384, 'latitude': 51.490142},\n",
       " 'RightToReply': '',\n",
       " 'Distance': 4623.972328074718,\n",
       " 'NewRatingPending': True}"
      ]
     },
     "execution_count": 13,
     "metadata": {},
     "output_type": "execute_result"
    }
   ],
   "source": [
    "# Confirm that the new restaurant was updated\n",
    "establishments.find_one({'BusinessName':'Penang Flavours'})"
   ]
  },
  {
   "cell_type": "markdown",
   "id": "67281254",
   "metadata": {},
   "source": [
    "4. The magazine is not interested in any establishments in Dover, so check how many documents contain the Dover Local Authority. Then, remove any establishments within the Dover Local Authority from the database, and check the number of documents to ensure they were deleted."
   ]
  },
  {
   "cell_type": "code",
   "execution_count": 14,
   "id": "768474a6",
   "metadata": {},
   "outputs": [
    {
     "data": {
      "text/plain": [
       "0"
      ]
     },
     "execution_count": 14,
     "metadata": {},
     "output_type": "execute_result"
    }
   ],
   "source": [
    "# Find how many documents have LocalAuthorityName as \"Dover\"\n",
    "establishments.count_documents({'LocalAuthorityName': 'Dover'})"
   ]
  },
  {
   "cell_type": "code",
   "execution_count": 15,
   "id": "a11d5f1b",
   "metadata": {},
   "outputs": [
    {
     "data": {
      "text/plain": [
       "<pymongo.results.DeleteResult at 0x250e3168cc8>"
      ]
     },
     "execution_count": 15,
     "metadata": {},
     "output_type": "execute_result"
    }
   ],
   "source": [
    "# Delete all documents where LocalAuthorityName is \"Dover\"\n",
    "establishments.delete_many({'LocalAuthorityName': 'Dover'})"
   ]
  },
  {
   "cell_type": "code",
   "execution_count": 16,
   "id": "2a51aba0",
   "metadata": {},
   "outputs": [
    {
     "name": "stdout",
     "output_type": "stream",
     "text": [
      "0\n"
     ]
    }
   ],
   "source": [
    "# Check if any remaining documents include Dover\n",
    "pprint(establishments.count_documents({'LocalAuthorityName': 'Dover'}))"
   ]
  },
  {
   "cell_type": "code",
   "execution_count": 17,
   "id": "8c356f7b",
   "metadata": {},
   "outputs": [
    {
     "data": {
      "text/plain": [
       "{'_id': ObjectId('64fdb1f79c7570f9f85f2b79'),\n",
       " 'FHRSID': 1043695,\n",
       " 'ChangesByServerID': 0,\n",
       " 'LocalAuthorityBusinessID': 'PI/000073616',\n",
       " 'BusinessName': 'The Pavilion',\n",
       " 'BusinessType': 'Restaurant/Cafe/Canteen',\n",
       " 'BusinessTypeID': 1,\n",
       " 'AddressLine1': 'East Cliff Pavilion',\n",
       " 'AddressLine2': 'Wear Bay Road',\n",
       " 'AddressLine3': 'Folkestone',\n",
       " 'AddressLine4': 'Kent',\n",
       " 'PostCode': 'CT19 6BL',\n",
       " 'Phone': '',\n",
       " 'RatingValue': 5,\n",
       " 'RatingKey': 'fhrs_5_en-gb',\n",
       " 'RatingDate': '2018-04-04T00:00:00',\n",
       " 'LocalAuthorityCode': '188',\n",
       " 'LocalAuthorityName': 'Folkestone and Hythe',\n",
       " 'LocalAuthorityWebSite': 'http://www.folkestone-hythe.gov.uk',\n",
       " 'LocalAuthorityEmailAddress': 'foodteam@folkestone-hythe.gov.uk',\n",
       " 'scores': {'Hygiene': 5, 'Structural': 5, 'ConfidenceInManagement': 5},\n",
       " 'SchemeType': 'FHRS',\n",
       " 'geocode': {'longitude': 1.195625, 'latitude': 51.083812},\n",
       " 'RightToReply': '',\n",
       " 'Distance': 4591.765489457773,\n",
       " 'NewRatingPending': False,\n",
       " 'meta': {'dataSource': None,\n",
       "  'extractDate': '0001-01-01T00:00:00',\n",
       "  'itemCount': 0,\n",
       "  'returncode': None,\n",
       "  'totalCount': 0,\n",
       "  'totalPages': 0,\n",
       "  'pageSize': 0,\n",
       "  'pageNumber': 0},\n",
       " 'links': [{'rel': 'self',\n",
       "   'href': 'https://api.ratings.food.gov.uk/establishments/1043695'}]}"
      ]
     },
     "execution_count": 17,
     "metadata": {},
     "output_type": "execute_result"
    }
   ],
   "source": [
    "# Check that other documents remain with 'find_one'\n",
    "establishments.find_one({})"
   ]
  },
  {
   "cell_type": "markdown",
   "id": "e9f1662d",
   "metadata": {},
   "source": [
    "5. Some of the number values are stored as strings, when they should be stored as numbers. Use `update_many` to convert `latitude` and `longitude` to decimal numbers."
   ]
  },
  {
   "cell_type": "code",
   "execution_count": 18,
   "id": "fd4112ce",
   "metadata": {},
   "outputs": [
    {
     "data": {
      "text/plain": [
       "<pymongo.results.UpdateResult at 0x250e3175fc8>"
      ]
     },
     "execution_count": 18,
     "metadata": {},
     "output_type": "execute_result"
    }
   ],
   "source": [
    "# Change the data type from String to Decimal for longitude\n",
    "establishments.update_many({}, [{'$set': {'geocode.longitude': {'$toDouble': '$geocode.longitude'}}}])"
   ]
  },
  {
   "cell_type": "code",
   "execution_count": 19,
   "id": "08dd7c72",
   "metadata": {},
   "outputs": [
    {
     "data": {
      "text/plain": [
       "<pymongo.results.UpdateResult at 0x250e316bf48>"
      ]
     },
     "execution_count": 19,
     "metadata": {},
     "output_type": "execute_result"
    }
   ],
   "source": [
    "# Change the data type from String to Decimal for latitude\n",
    "establishments.update_many({}, [{'$set': {'geocode.latitude': {'$toDouble': '$geocode.latitude'}}}])"
   ]
  },
  {
   "cell_type": "code",
   "execution_count": 20,
   "id": "a22327fc",
   "metadata": {},
   "outputs": [
    {
     "name": "stdout",
     "output_type": "stream",
     "text": [
      "{'_id': ObjectId('64fdb1f79c7570f9f85f2b79'), 'geocode': {'longitude': 1.195625, 'latitude': 51.083812}}\n",
      "{'_id': ObjectId('64fdb1f79c7570f9f85f2b7b'), 'geocode': {'longitude': 1.196408, 'latitude': 51.086058}}\n",
      "{'_id': ObjectId('64fdb1f79c7570f9f85f2b7c'), 'geocode': {'longitude': 1.194762, 'latitude': 51.085797}}\n",
      "{'_id': ObjectId('64fdb1f79c7570f9f85f2b7d'), 'geocode': {'longitude': 1.188537, 'latitude': 51.08084}}\n",
      "{'_id': ObjectId('64fdb1f79c7570f9f85f2b7f'), 'geocode': {'longitude': 1.188537, 'latitude': 51.08084}}\n"
     ]
    }
   ],
   "source": [
    "# Check that the coordinates are now numbers\n",
    "# Query and print the first five records\n",
    "results = establishments.find({}, ['geocode.longitude', 'geocode.latitude'])\n",
    "\n",
    "for result in results.limit(5):\n",
    "    print(result)"
   ]
  },
  {
   "cell_type": "code",
   "execution_count": 29,
   "id": "8546e98b",
   "metadata": {},
   "outputs": [],
   "source": [
    "results = establishments.update_many(\n",
    "    {},\n",
    "    [\n",
    "        {\n",
    "            \"$set\": {\n",
    "                \"RatingValue\": {\n",
    "                    \"$convert\": {\n",
    "                        \"input\": \"$RatingValue\",\n",
    "                        \"to\": \"int\",\n",
    "                        \"onError\": 0                    }\n",
    "                }\n",
    "            }\n",
    "        }\n",
    "    ]\n",
    ")"
   ]
  },
  {
   "cell_type": "code",
   "execution_count": 30,
   "id": "591003cb",
   "metadata": {},
   "outputs": [
    {
     "name": "stdout",
     "output_type": "stream",
     "text": [
      "{'_id': ObjectId('64fdb1f79c7570f9f85f2b79'), 'FHRSID': 1043695, 'ChangesByServerID': 0, 'LocalAuthorityBusinessID': 'PI/000073616', 'BusinessName': 'The Pavilion', 'BusinessType': 'Restaurant/Cafe/Canteen', 'BusinessTypeID': 1, 'AddressLine1': 'East Cliff Pavilion', 'AddressLine2': 'Wear Bay Road', 'AddressLine3': 'Folkestone', 'AddressLine4': 'Kent', 'PostCode': 'CT19 6BL', 'Phone': '', 'RatingValue': 5, 'RatingKey': 'fhrs_5_en-gb', 'RatingDate': '2018-04-04T00:00:00', 'LocalAuthorityCode': '188', 'LocalAuthorityName': 'Folkestone and Hythe', 'LocalAuthorityWebSite': 'http://www.folkestone-hythe.gov.uk', 'LocalAuthorityEmailAddress': 'foodteam@folkestone-hythe.gov.uk', 'scores': {'Hygiene': 5, 'Structural': 5, 'ConfidenceInManagement': 5}, 'SchemeType': 'FHRS', 'geocode': {'longitude': 1.195625, 'latitude': 51.083812}, 'RightToReply': '', 'Distance': 4591.765489457773, 'NewRatingPending': False, 'meta': {'dataSource': None, 'extractDate': '0001-01-01T00:00:00', 'itemCount': 0, 'returncode': None, 'totalCount': 0, 'totalPages': 0, 'pageSize': 0, 'pageNumber': 0}, 'links': [{'rel': 'self', 'href': 'https://api.ratings.food.gov.uk/establishments/1043695'}]}\n",
      "{'_id': ObjectId('64fdb1f79c7570f9f85f2b7b'), 'FHRSID': 647177, 'ChangesByServerID': 0, 'LocalAuthorityBusinessID': 'PI/000041489', 'BusinessName': 'Wear Bay Bowls Club', 'BusinessType': 'Pub/bar/nightclub', 'BusinessTypeID': 7843, 'AddressLine1': 'Wear Bay Road', 'AddressLine2': 'Folkestone', 'AddressLine3': 'Kent', 'AddressLine4': '', 'PostCode': 'CT19 6PY', 'Phone': '', 'RatingValue': 4, 'RatingKey': 'fhrs_4_en-gb', 'RatingDate': '2014-03-31T00:00:00', 'LocalAuthorityCode': '188', 'LocalAuthorityName': 'Folkestone and Hythe', 'LocalAuthorityWebSite': 'http://www.folkestone-hythe.gov.uk', 'LocalAuthorityEmailAddress': 'foodteam@folkestone-hythe.gov.uk', 'scores': {'Hygiene': 5, 'Structural': 5, 'ConfidenceInManagement': 10}, 'SchemeType': 'FHRS', 'geocode': {'longitude': 1.196408, 'latitude': 51.086058}, 'RightToReply': '', 'Distance': 4591.821311183521, 'NewRatingPending': False, 'meta': {'dataSource': None, 'extractDate': '0001-01-01T00:00:00', 'itemCount': 0, 'returncode': None, 'totalCount': 0, 'totalPages': 0, 'pageSize': 0, 'pageNumber': 0}, 'links': [{'rel': 'self', 'href': 'https://api.ratings.food.gov.uk/establishments/647177'}]}\n",
      "{'_id': ObjectId('64fdb1f79c7570f9f85f2b7c'), 'FHRSID': 289353, 'ChangesByServerID': 0, 'LocalAuthorityBusinessID': 'PI/000002468', 'BusinessName': 'St Marys COE (aided) Primary School', 'BusinessType': 'School/college/university', 'BusinessTypeID': 7845, 'AddressLine1': 'St Marys Church Of England Primary School', 'AddressLine2': 'Warren Road', 'AddressLine3': 'Folkestone', 'AddressLine4': 'Kent', 'PostCode': 'CT19 6QH', 'Phone': '', 'RatingValue': 5, 'RatingKey': 'fhrs_5_en-gb', 'RatingDate': '2016-09-13T00:00:00', 'LocalAuthorityCode': '188', 'LocalAuthorityName': 'Folkestone and Hythe', 'LocalAuthorityWebSite': 'http://www.folkestone-hythe.gov.uk', 'LocalAuthorityEmailAddress': 'foodteam@folkestone-hythe.gov.uk', 'scores': {'Hygiene': 0, 'Structural': 0, 'ConfidenceInManagement': 0}, 'SchemeType': 'FHRS', 'geocode': {'longitude': 1.194762, 'latitude': 51.085797}, 'RightToReply': '', 'Distance': 4591.871474174837, 'NewRatingPending': False, 'meta': {'dataSource': None, 'extractDate': '0001-01-01T00:00:00', 'itemCount': 0, 'returncode': None, 'totalCount': 0, 'totalPages': 0, 'pageSize': 0, 'pageNumber': 0}, 'links': [{'rel': 'self', 'href': 'https://api.ratings.food.gov.uk/establishments/289353'}]}\n",
      "{'_id': ObjectId('64fdb1f79c7570f9f85f2b7d'), 'FHRSID': 289560, 'ChangesByServerID': 0, 'LocalAuthorityBusinessID': 'PI/000039927', 'BusinessName': 'Mariner', 'BusinessType': 'Pub/bar/nightclub', 'BusinessTypeID': 7843, 'AddressLine1': '16 The Stade', 'AddressLine2': 'Folkestone', 'AddressLine3': 'Kent', 'AddressLine4': '', 'PostCode': 'CT19 6AB', 'Phone': '', 'RatingValue': 5, 'RatingKey': 'fhrs_5_en-gb', 'RatingDate': '2019-03-19T00:00:00', 'LocalAuthorityCode': '188', 'LocalAuthorityName': 'Folkestone and Hythe', 'LocalAuthorityWebSite': 'http://www.folkestone-hythe.gov.uk', 'LocalAuthorityEmailAddress': 'foodteam@folkestone-hythe.gov.uk', 'scores': {'Hygiene': 0, 'Structural': 5, 'ConfidenceInManagement': 0}, 'SchemeType': 'FHRS', 'geocode': {'longitude': 1.188537, 'latitude': 51.08084}, 'RightToReply': '', 'Distance': 4591.912144538092, 'NewRatingPending': False, 'meta': {'dataSource': None, 'extractDate': '0001-01-01T00:00:00', 'itemCount': 0, 'returncode': None, 'totalCount': 0, 'totalPages': 0, 'pageSize': 0, 'pageNumber': 0}, 'links': [{'rel': 'self', 'href': 'https://api.ratings.food.gov.uk/establishments/289560'}]}\n",
      "{'_id': ObjectId('64fdb1f79c7570f9f85f2b7f'), 'FHRSID': 987206, 'ChangesByServerID': 0, 'LocalAuthorityBusinessID': 'PI/000075655', 'BusinessName': 'The Ships Galley', 'BusinessType': 'Pub/bar/nightclub', 'BusinessTypeID': 7843, 'AddressLine1': 'The Ship', 'AddressLine2': '23 The Stade', 'AddressLine3': 'Folkestone', 'AddressLine4': 'Kent', 'PostCode': 'CT19 6AB', 'Phone': '', 'RatingValue': 4, 'RatingKey': 'fhrs_4_en-gb', 'RatingDate': '2019-07-03T00:00:00', 'LocalAuthorityCode': '188', 'LocalAuthorityName': 'Folkestone and Hythe', 'LocalAuthorityWebSite': 'http://www.folkestone-hythe.gov.uk', 'LocalAuthorityEmailAddress': 'foodteam@folkestone-hythe.gov.uk', 'scores': {'Hygiene': 0, 'Structural': 0, 'ConfidenceInManagement': 10}, 'SchemeType': 'FHRS', 'geocode': {'longitude': 1.188537, 'latitude': 51.08084}, 'RightToReply': '', 'Distance': 4591.912144538092, 'NewRatingPending': False, 'meta': {'dataSource': None, 'extractDate': '0001-01-01T00:00:00', 'itemCount': 0, 'returncode': None, 'totalCount': 0, 'totalPages': 0, 'pageSize': 0, 'pageNumber': 0}, 'links': [{'rel': 'self', 'href': 'https://api.ratings.food.gov.uk/establishments/987206'}]}\n"
     ]
    }
   ],
   "source": [
    "# Query the collection\n",
    "new_rating = establishments.find()\n",
    "\n",
    "# See the change in collection.\n",
    "for establishment in new_rating.limit(5):\n",
    "    print(establishment)"
   ]
  },
  {
   "cell_type": "code",
   "execution_count": 32,
   "id": "e1125a74",
   "metadata": {},
   "outputs": [
    {
     "name": "stdout",
     "output_type": "stream",
     "text": [
      "{'AddressLine1': 'East Cliff Pavilion',\n",
      " 'AddressLine2': 'Wear Bay Road',\n",
      " 'AddressLine3': 'Folkestone',\n",
      " 'AddressLine4': 'Kent',\n",
      " 'BusinessName': 'The Pavilion',\n",
      " 'BusinessType': 'Restaurant/Cafe/Canteen',\n",
      " 'BusinessTypeID': 1,\n",
      " 'ChangesByServerID': 0,\n",
      " 'Distance': 4591.765489457773,\n",
      " 'FHRSID': 1043695,\n",
      " 'LocalAuthorityBusinessID': 'PI/000073616',\n",
      " 'LocalAuthorityCode': '188',\n",
      " 'LocalAuthorityEmailAddress': 'foodteam@folkestone-hythe.gov.uk',\n",
      " 'LocalAuthorityName': 'Folkestone and Hythe',\n",
      " 'LocalAuthorityWebSite': 'http://www.folkestone-hythe.gov.uk',\n",
      " 'NewRatingPending': False,\n",
      " 'Phone': '',\n",
      " 'PostCode': 'CT19 6BL',\n",
      " 'RatingDate': '2018-04-04T00:00:00',\n",
      " 'RatingKey': 'fhrs_5_en-gb',\n",
      " 'RatingValue': 5,\n",
      " 'RightToReply': '',\n",
      " 'SchemeType': 'FHRS',\n",
      " '_id': ObjectId('64fdb1f79c7570f9f85f2b79'),\n",
      " 'geocode': {'latitude': 51.083812, 'longitude': 1.195625},\n",
      " 'links': [{'href': 'https://api.ratings.food.gov.uk/establishments/1043695',\n",
      "            'rel': 'self'}],\n",
      " 'meta': {'dataSource': None,\n",
      "          'extractDate': '0001-01-01T00:00:00',\n",
      "          'itemCount': 0,\n",
      "          'pageNumber': 0,\n",
      "          'pageSize': 0,\n",
      "          'returncode': None,\n",
      "          'totalCount': 0,\n",
      "          'totalPages': 0},\n",
      " 'scores': {'ConfidenceInManagement': 5, 'Hygiene': 5, 'Structural': 5}}\n"
     ]
    }
   ],
   "source": [
    "# Check that the coordinates and rating value are now numbers\n",
    "pprint(establishments.find_one())"
   ]
  }
 ],
 "metadata": {
  "kernelspec": {
   "display_name": "Python 3 (ipykernel)",
   "language": "python",
   "name": "python3"
  },
  "language_info": {
   "codemirror_mode": {
    "name": "ipython",
    "version": 3
   },
   "file_extension": ".py",
   "mimetype": "text/x-python",
   "name": "python",
   "nbconvert_exporter": "python",
   "pygments_lexer": "ipython3",
   "version": "3.7.13"
  }
 },
 "nbformat": 4,
 "nbformat_minor": 5
}
